{
  "nbformat": 4,
  "nbformat_minor": 0,
  "metadata": {
    "colab": {
      "provenance": [],
      "authorship_tag": "ABX9TyPCRx9aBY3eK2g2OAsIGZmP",
      "include_colab_link": true
    },
    "kernelspec": {
      "name": "python3",
      "display_name": "Python 3"
    },
    "language_info": {
      "name": "python"
    }
  },
  "cells": [
    {
      "cell_type": "markdown",
      "metadata": {
        "id": "view-in-github",
        "colab_type": "text"
      },
      "source": [
        "<a href=\"https://colab.research.google.com/github/MUHAMMED-ALAAEDDIN/Veri_madencilgi/blob/main/Veri_Madencili%C4%9Fi_Final_Proje1.ipynb\" target=\"_parent\"><img src=\"https://colab.research.google.com/assets/colab-badge.svg\" alt=\"Open In Colab\"/></a>"
      ]
    },
    {
      "cell_type": "markdown",
      "source": [
        "# 'Kan Nakli Hizmet Merkezi' verisetini one drive'e yükleme"
      ],
      "metadata": {
        "id": "MTD6IRfBtEHD"
      }
    },
    {
      "cell_type": "code",
      "source": [
        "from google.colab import drive\n",
        "drive.mount('/content/drive')"
      ],
      "metadata": {
        "colab": {
          "base_uri": "https://localhost:8080/"
        },
        "id": "ZvP844ua8mIm",
        "outputId": "06f3b6ce-5221-45ec-ccd4-b427dbf6ce80"
      },
      "execution_count": 17,
      "outputs": [
        {
          "output_type": "stream",
          "name": "stdout",
          "text": [
            "Drive already mounted at /content/drive; to attempt to forcibly remount, call drive.mount(\"/content/drive\", force_remount=True).\n"
          ]
        }
      ]
    },
    {
      "cell_type": "markdown",
      "source": [
        "# Veriseti notebook'e aktarma"
      ],
      "metadata": {
        "id": "kPlolQswte5t"
      }
    },
    {
      "cell_type": "code",
      "source": [
        "import pandas as pd\n",
        "dataset = pd.read_csv( '/content/drive/My Drive/Veri_madenciliği_ödevi/transfusion.csv')\n",
        "dataset.head()"
      ],
      "metadata": {
        "colab": {
          "base_uri": "https://localhost:8080/",
          "height": 206
        },
        "id": "3k3HfjtD88Co",
        "outputId": "e1d1e894-1387-4a43-b3d4-68cb94f9811d"
      },
      "execution_count": 18,
      "outputs": [
        {
          "output_type": "execute_result",
          "data": {
            "text/plain": [
              "   Recency (months)  Frequency (times)  Monetary (c.c. blood)  Time (months)  \\\n",
              "0                 2                 50                  12500             98   \n",
              "1                 0                 13                   3250             28   \n",
              "2                 1                 16                   4000             35   \n",
              "3                 2                 20                   5000             45   \n",
              "4                 1                 24                   6000             77   \n",
              "\n",
              "   whether he/she donated blood in March 2007  \n",
              "0                                           1  \n",
              "1                                           1  \n",
              "2                                           1  \n",
              "3                                           1  \n",
              "4                                           0  "
            ],
            "text/html": [
              "\n",
              "  <div id=\"df-a034bbbb-c55c-444b-b6f8-3c18a2bf2b1d\">\n",
              "    <div class=\"colab-df-container\">\n",
              "      <div>\n",
              "<style scoped>\n",
              "    .dataframe tbody tr th:only-of-type {\n",
              "        vertical-align: middle;\n",
              "    }\n",
              "\n",
              "    .dataframe tbody tr th {\n",
              "        vertical-align: top;\n",
              "    }\n",
              "\n",
              "    .dataframe thead th {\n",
              "        text-align: right;\n",
              "    }\n",
              "</style>\n",
              "<table border=\"1\" class=\"dataframe\">\n",
              "  <thead>\n",
              "    <tr style=\"text-align: right;\">\n",
              "      <th></th>\n",
              "      <th>Recency (months)</th>\n",
              "      <th>Frequency (times)</th>\n",
              "      <th>Monetary (c.c. blood)</th>\n",
              "      <th>Time (months)</th>\n",
              "      <th>whether he/she donated blood in March 2007</th>\n",
              "    </tr>\n",
              "  </thead>\n",
              "  <tbody>\n",
              "    <tr>\n",
              "      <th>0</th>\n",
              "      <td>2</td>\n",
              "      <td>50</td>\n",
              "      <td>12500</td>\n",
              "      <td>98</td>\n",
              "      <td>1</td>\n",
              "    </tr>\n",
              "    <tr>\n",
              "      <th>1</th>\n",
              "      <td>0</td>\n",
              "      <td>13</td>\n",
              "      <td>3250</td>\n",
              "      <td>28</td>\n",
              "      <td>1</td>\n",
              "    </tr>\n",
              "    <tr>\n",
              "      <th>2</th>\n",
              "      <td>1</td>\n",
              "      <td>16</td>\n",
              "      <td>4000</td>\n",
              "      <td>35</td>\n",
              "      <td>1</td>\n",
              "    </tr>\n",
              "    <tr>\n",
              "      <th>3</th>\n",
              "      <td>2</td>\n",
              "      <td>20</td>\n",
              "      <td>5000</td>\n",
              "      <td>45</td>\n",
              "      <td>1</td>\n",
              "    </tr>\n",
              "    <tr>\n",
              "      <th>4</th>\n",
              "      <td>1</td>\n",
              "      <td>24</td>\n",
              "      <td>6000</td>\n",
              "      <td>77</td>\n",
              "      <td>0</td>\n",
              "    </tr>\n",
              "  </tbody>\n",
              "</table>\n",
              "</div>\n",
              "      <button class=\"colab-df-convert\" onclick=\"convertToInteractive('df-a034bbbb-c55c-444b-b6f8-3c18a2bf2b1d')\"\n",
              "              title=\"Convert this dataframe to an interactive table.\"\n",
              "              style=\"display:none;\">\n",
              "        \n",
              "  <svg xmlns=\"http://www.w3.org/2000/svg\" height=\"24px\"viewBox=\"0 0 24 24\"\n",
              "       width=\"24px\">\n",
              "    <path d=\"M0 0h24v24H0V0z\" fill=\"none\"/>\n",
              "    <path d=\"M18.56 5.44l.94 2.06.94-2.06 2.06-.94-2.06-.94-.94-2.06-.94 2.06-2.06.94zm-11 1L8.5 8.5l.94-2.06 2.06-.94-2.06-.94L8.5 2.5l-.94 2.06-2.06.94zm10 10l.94 2.06.94-2.06 2.06-.94-2.06-.94-.94-2.06-.94 2.06-2.06.94z\"/><path d=\"M17.41 7.96l-1.37-1.37c-.4-.4-.92-.59-1.43-.59-.52 0-1.04.2-1.43.59L10.3 9.45l-7.72 7.72c-.78.78-.78 2.05 0 2.83L4 21.41c.39.39.9.59 1.41.59.51 0 1.02-.2 1.41-.59l7.78-7.78 2.81-2.81c.8-.78.8-2.07 0-2.86zM5.41 20L4 18.59l7.72-7.72 1.47 1.35L5.41 20z\"/>\n",
              "  </svg>\n",
              "      </button>\n",
              "      \n",
              "  <style>\n",
              "    .colab-df-container {\n",
              "      display:flex;\n",
              "      flex-wrap:wrap;\n",
              "      gap: 12px;\n",
              "    }\n",
              "\n",
              "    .colab-df-convert {\n",
              "      background-color: #E8F0FE;\n",
              "      border: none;\n",
              "      border-radius: 50%;\n",
              "      cursor: pointer;\n",
              "      display: none;\n",
              "      fill: #1967D2;\n",
              "      height: 32px;\n",
              "      padding: 0 0 0 0;\n",
              "      width: 32px;\n",
              "    }\n",
              "\n",
              "    .colab-df-convert:hover {\n",
              "      background-color: #E2EBFA;\n",
              "      box-shadow: 0px 1px 2px rgba(60, 64, 67, 0.3), 0px 1px 3px 1px rgba(60, 64, 67, 0.15);\n",
              "      fill: #174EA6;\n",
              "    }\n",
              "\n",
              "    [theme=dark] .colab-df-convert {\n",
              "      background-color: #3B4455;\n",
              "      fill: #D2E3FC;\n",
              "    }\n",
              "\n",
              "    [theme=dark] .colab-df-convert:hover {\n",
              "      background-color: #434B5C;\n",
              "      box-shadow: 0px 1px 3px 1px rgba(0, 0, 0, 0.15);\n",
              "      filter: drop-shadow(0px 1px 2px rgba(0, 0, 0, 0.3));\n",
              "      fill: #FFFFFF;\n",
              "    }\n",
              "  </style>\n",
              "\n",
              "      <script>\n",
              "        const buttonEl =\n",
              "          document.querySelector('#df-a034bbbb-c55c-444b-b6f8-3c18a2bf2b1d button.colab-df-convert');\n",
              "        buttonEl.style.display =\n",
              "          google.colab.kernel.accessAllowed ? 'block' : 'none';\n",
              "\n",
              "        async function convertToInteractive(key) {\n",
              "          const element = document.querySelector('#df-a034bbbb-c55c-444b-b6f8-3c18a2bf2b1d');\n",
              "          const dataTable =\n",
              "            await google.colab.kernel.invokeFunction('convertToInteractive',\n",
              "                                                     [key], {});\n",
              "          if (!dataTable) return;\n",
              "\n",
              "          const docLinkHtml = 'Like what you see? Visit the ' +\n",
              "            '<a target=\"_blank\" href=https://colab.research.google.com/notebooks/data_table.ipynb>data table notebook</a>'\n",
              "            + ' to learn more about interactive tables.';\n",
              "          element.innerHTML = '';\n",
              "          dataTable['output_type'] = 'display_data';\n",
              "          await google.colab.output.renderOutput(dataTable, element);\n",
              "          const docLink = document.createElement('div');\n",
              "          docLink.innerHTML = docLinkHtml;\n",
              "          element.appendChild(docLink);\n",
              "        }\n",
              "      </script>\n",
              "    </div>\n",
              "  </div>\n",
              "  "
            ]
          },
          "metadata": {},
          "execution_count": 18
        }
      ]
    },
    {
      "cell_type": "markdown",
      "source": [
        "# Satır ve sütun sayısı"
      ],
      "metadata": {
        "id": "yGquw2V-ekKk"
      }
    },
    {
      "cell_type": "code",
      "source": [
        "# Satır ve sütun sayısı\n",
        "rows_col = dataset.shape\n",
        "print ( \"Veri kümesindeki toplam satır sayısı: {}\" . format ( rows_col [ 0 ] ) )  \n",
        "print ( \"Veri kümesindeki toplam sütun sayısı : {}\" . format ( rows_col [ 1 ] )) "
      ],
      "metadata": {
        "colab": {
          "base_uri": "https://localhost:8080/"
        },
        "id": "6AUlhOymeif6",
        "outputId": "5945eb8a-80fc-465c-d551-4f89556a4c12"
      },
      "execution_count": 19,
      "outputs": [
        {
          "output_type": "stream",
          "name": "stdout",
          "text": [
            "Veri kümesindeki toplam satır sayısı: 748\n",
            "Veri kümesindeki toplam sütun sayısı : 5\n"
          ]
        }
      ]
    },
    {
      "cell_type": "markdown",
      "source": [
        "# Her sütundaki Eksik Değerlerin sayısını kontrolü"
      ],
      "metadata": {
        "id": "ytNZeMBIhNGW"
      }
    },
    {
      "cell_type": "code",
      "source": [
        "# Her sütundaki Eksik Değerlerin sayısını kontrol eden kod\n",
        "dataset.isna().sum()"
      ],
      "metadata": {
        "colab": {
          "base_uri": "https://localhost:8080/"
        },
        "id": "n0FGvftVhK1y",
        "outputId": "75ffe61f-82a3-433c-c97f-9e9df07ccbb8"
      },
      "execution_count": 20,
      "outputs": [
        {
          "output_type": "execute_result",
          "data": {
            "text/plain": [
              "Recency (months)                              0\n",
              "Frequency (times)                             0\n",
              "Monetary (c.c. blood)                         0\n",
              "Time (months)                                 0\n",
              "whether he/she donated blood in March 2007    0\n",
              "dtype: int64"
            ]
          },
          "metadata": {},
          "execution_count": 20
        }
      ]
    },
    {
      "cell_type": "markdown",
      "source": [
        "# Hedef Değişkenin sayım grafiğini çizme\n",
        "# (0 - kan bağışlamayan ve 1 - kan bağışlayan)"
      ],
      "metadata": {
        "id": "1HLYv2ZemcJ4"
      }
    },
    {
      "cell_type": "code",
      "source": [
        "\n",
        "import seaborn as sns\n",
        "import matplotlib.pyplot as plt\n",
        "sns.set_style(\"whitegrid\")\n",
        "plt.figure(figsize=(8,5))\n",
        "sns.countplot(x= \"whether he/she donated blood in March 2007\",data=dataset)"
      ],
      "metadata": {
        "colab": {
          "base_uri": "https://localhost:8080/",
          "height": 351
        },
        "id": "x5KZwzL1mTRl",
        "outputId": "3800d894-d6c2-4492-d3f9-51df28f8b3fc"
      },
      "execution_count": 21,
      "outputs": [
        {
          "output_type": "execute_result",
          "data": {
            "text/plain": [
              "<matplotlib.axes._subplots.AxesSubplot at 0x7f5bf7aa0670>"
            ]
          },
          "metadata": {},
          "execution_count": 21
        },
        {
          "output_type": "display_data",
          "data": {
            "text/plain": [
              "<Figure size 576x360 with 1 Axes>"
            ],
            "image/png": "[encoded data removed]"
          },
          "metadata": {}
        }
      ]
    },
    {
      "cell_type": "code",
      "source": [
        "dataset[\"whether he/she donated blood in March 2007\"].value_counts()"
      ],
      "metadata": {
        "colab": {
          "base_uri": "https://localhost:8080/"
        },
        "id": "yknrlndd9s0N",
        "outputId": "d97d6f62-a356-433b-df8e-60c442c54935"
      },
      "execution_count": 22,
      "outputs": [
        {
          "output_type": "execute_result",
          "data": {
            "text/plain": [
              "0    570\n",
              "1    178\n",
              "Name: whether he/she donated blood in March 2007, dtype: int64"
            ]
          },
          "metadata": {},
          "execution_count": 22
        }
      ]
    },
    {
      "cell_type": "markdown",
      "source": [
        "\n",
        "# En son bağıştan bu yana geçen ay sayısı grafiği\n",
        "\n",
        "\n"
      ],
      "metadata": {
        "id": "jG9cXD_vqnV8"
      }
    },
    {
      "cell_type": "code",
      "source": [
        "plt.figure(figsize=(8,5))\n",
        "sns.countplot(x= \"Recency (months)\",data=dataset)"
      ],
      "metadata": {
        "colab": {
          "base_uri": "https://localhost:8080/",
          "height": 351
        },
        "id": "ADoSuEuqqd3m",
        "outputId": "fcaf1292-698e-4670-8b32-6a86b7536db4"
      },
      "execution_count": 23,
      "outputs": [
        {
          "output_type": "execute_result",
          "data": {
            "text/plain": [
              "<matplotlib.axes._subplots.AxesSubplot at 0x7f5bf72f4d90>"
            ]
          },
          "metadata": {},
          "execution_count": 23
        },
        {
          "output_type": "display_data",
          "data": {
            "text/plain": [
              "<Figure size 576x360 with 1 Axes>"
            ],
            "image/png": "[encoded data removed]"
          },
          "metadata": {}
        }
      ]
    },
    {
      "cell_type": "markdown",
      "source": [
        "# Belirli bir donörün toplam kan bağış sayısı grafiği"
      ],
      "metadata": {
        "id": "-vhHI_SMsW_k"
      }
    },
    {
      "cell_type": "code",
      "source": [
        "plt.figure(figsize=(8,5))\n",
        "sns.countplot(x= \"Frequency (times)\",data=dataset)"
      ],
      "metadata": {
        "colab": {
          "base_uri": "https://localhost:8080/",
          "height": 351
        },
        "id": "Hz-53h7YsZ7T",
        "outputId": "a1ee4a15-d98c-4d46-fcb4-322652910f2c"
      },
      "execution_count": 24,
      "outputs": [
        {
          "output_type": "execute_result",
          "data": {
            "text/plain": [
              "<matplotlib.axes._subplots.AxesSubplot at 0x7f5bf72ee1c0>"
            ]
          },
          "metadata": {},
          "execution_count": 24
        },
        {
          "output_type": "display_data",
          "data": {
            "text/plain": [
              "<Figure size 576x360 with 1 Axes>"
            ],
            "image/png": "[encoded data removed]"
          },
          "metadata": {}
        }
      ]
    },
    {
      "cell_type": "markdown",
      "source": [
        "# Bağışçının CC'de bağışladığı toplam kan miktarı grafiği"
      ],
      "metadata": {
        "id": "GW2XT9oE8RCi"
      }
    },
    {
      "cell_type": "code",
      "source": [
        "plt.figure(figsize=(18,5))\n",
        "sns.countplot(x= \"Monetary (c.c. blood)\",data=dataset)"
      ],
      "metadata": {
        "colab": {
          "base_uri": "https://localhost:8080/",
          "height": 351
        },
        "id": "27BF7dTv8OdD",
        "outputId": "b1279ed5-47d6-4d05-f7b0-1b53e7e5a776"
      },
      "execution_count": 25,
      "outputs": [
        {
          "output_type": "execute_result",
          "data": {
            "text/plain": [
              "<matplotlib.axes._subplots.AxesSubplot at 0x7f5bf82dd280>"
            ]
          },
          "metadata": {},
          "execution_count": 25
        },
        {
          "output_type": "display_data",
          "data": {
            "text/plain": [
              "<Figure size 1296x360 with 1 Axes>"
            ],
            "image/png": "[encoded data removed]"
          },
          "metadata": {}
        }
      ]
    },
    {
      "cell_type": "markdown",
      "source": [
        "# Bağışçının ilk bağışından bu yana geçen ay sayısı grafiği"
      ],
      "metadata": {
        "id": "J5m58a3d9ut9"
      }
    },
    {
      "cell_type": "code",
      "source": [
        "plt.figure(figsize=(20,5))\n",
        "sns.countplot(x= \"Time (months)\",data=dataset)"
      ],
      "metadata": {
        "colab": {
          "base_uri": "https://localhost:8080/",
          "height": 351
        },
        "id": "ltpPbKpF9y2B",
        "outputId": "7b93b4c7-eee2-41cd-c7e7-f379046d4153"
      },
      "execution_count": 26,
      "outputs": [
        {
          "output_type": "execute_result",
          "data": {
            "text/plain": [
              "<matplotlib.axes._subplots.AxesSubplot at 0x7f5bf8213400>"
            ]
          },
          "metadata": {},
          "execution_count": 26
        },
        {
          "output_type": "display_data",
          "data": {
            "text/plain": [
              "<Figure size 1440x360 with 1 Axes>"
            ],
            "image/png": "[encoded data removed]"
          },
          "metadata": {}
        }
      ]
    },
    {
      "cell_type": "markdown",
      "source": [
        "# Her bir niteliğin özellikleri için normalizasyon işlemi min-max yöntemi ile  gerçekleştirmek."
      ],
      "metadata": {
        "id": "Cr-ew7RwugOb"
      }
    },
    {
      "cell_type": "code",
      "source": [
        "import pandas as pd\n",
        "from sklearn.preprocessing import MinMaxScaler\n",
        "\n",
        "# Load the dataset\n",
        "df = pd.read_csv('/content/drive/My Drive/Veri_madenciliği_ödevi/transfusion.csv')\n",
        "\n",
        "# Split the dataset into features and target\n",
        "X = df.drop('whether he/she donated blood in March 2007', axis=1)\n",
        "\n",
        "# Normalize the features using min-max normalization\n",
        "scaler = MinMaxScaler()\n",
        "X_norm = scaler.fit_transform(X)\n",
        "\n",
        "# Print the normalized features\n",
        "print(X_norm)"
      ],
      "metadata": {
        "colab": {
          "base_uri": "https://localhost:8080/"
        },
        "id": "G5IJbY1XkmuY",
        "outputId": "ead7d2d0-3ded-4f3e-b7dd-8ecd3a999ee6"
      },
      "execution_count": 27,
      "outputs": [
        {
          "output_type": "stream",
          "name": "stdout",
          "text": [
            "[[0.02702703 1.         1.         1.        ]\n",
            " [0.         0.24489796 0.24489796 0.27083333]\n",
            " [0.01351351 0.30612245 0.30612245 0.34375   ]\n",
            " ...\n",
            " [0.31081081 0.04081633 0.04081633 0.625     ]\n",
            " [0.52702703 0.         0.         0.38541667]\n",
            " [0.97297297 0.         0.         0.72916667]]\n"
          ]
        }
      ]
    },
    {
      "cell_type": "markdown",
      "source": [
        "# Entropy ve İnformation gain sınıflandırma yöntemi ile en iyi bölen niteliği bulup ekrana yazma"
      ],
      "metadata": {
        "id": "fhoi0nU4gDIF"
      }
    },
    {
      "cell_type": "code",
      "source": [
        "X = dataset.iloc[:, :-1] # select all rows, all columns except the last one\n",
        "y = dataset.iloc[:, -1] # select all rows, last column only\n",
        "import math\n",
        "\n",
        "def entropy(y):\n",
        "    counts = y.value_counts()\n",
        "    entropy = 0\n",
        "    for count in counts:\n",
        "        p = count / len(y)\n",
        "        entropy -= p * math.log(p, 2)\n",
        "    return entropy\n",
        "\n",
        "entropy_y = entropy(y)\n",
        "\n",
        "def information_gain(X, y, feature):\n",
        "    entropy_y = entropy(y)\n",
        "    values = X[feature].unique()\n",
        "    entropy_feature = 0\n",
        "    for value in values:\n",
        "        sub_y = y[X[feature] == value]\n",
        "        p = len(sub_y) / len(y)\n",
        "        entropy_feature += p * entropy(sub_y)\n",
        "    return entropy_y - entropy_feature\n",
        "\n",
        "best_feature = None\n",
        "best_gain = 0\n",
        "\n",
        "for feature in X.columns:\n",
        "    gain = information_gain(X, y, feature)\n",
        "    if gain > best_gain:\n",
        "        best_gain = gain\n",
        "        best_feature = feature\n",
        "\n",
        "print(f'En iyi bölen nitelik: {best_feature}')"
      ],
      "metadata": {
        "colab": {
          "base_uri": "https://localhost:8080/"
        },
        "id": "qVuHsLuGgBdh",
        "outputId": "7931c979-ff22-4221-c64d-e6656f99e922"
      },
      "execution_count": 28,
      "outputs": [
        {
          "output_type": "stream",
          "name": "stdout",
          "text": [
            "En iyi bölen nitelik: Recency (months)\n"
          ]
        }
      ]
    },
    {
      "cell_type": "markdown",
      "source": [
        "# KNN ve Naive Bayes sınıflandırma yöntemleri ile sınıflandırma ve tahmin başarı değeri(oranı) bulup ekrana yazma"
      ],
      "metadata": {
        "id": "4tks9VAPu9PQ"
      }
    },
    {
      "cell_type": "code",
      "source": [
        "import numpy as np\n",
        "import pandas as pd\n",
        "from sklearn.model_selection import train_test_split\n",
        "from sklearn.neighbors import KNeighborsClassifier\n",
        "from sklearn.naive_bayes import GaussianNB\n",
        "from sklearn.metrics import accuracy_score\n",
        "\n",
        "# Load the dataset\n",
        "df = pd.read_csv('/content/drive/My Drive/Veri_madenciliği_ödevi/transfusion.csv')\n",
        "\n",
        "# Split the dataset into features and targets\n",
        "X = df.drop('whether he/she donated blood in March 2007', axis=1)\n",
        "y = df['whether he/she donated blood in March 2007']\n",
        "\n",
        "# Split the data into training and testing sets\n",
        "X_train, X_test, y_train, y_test = train_test_split(X, y, test_size=0.2, random_state=42)\n",
        "\n",
        "# Initialize the KNN classifier\n",
        "knn = KNeighborsClassifier(n_neighbors=5)\n",
        "\n",
        "# Fit the classifier to the training data\n",
        "knn.fit(X_train, y_train)\n",
        "\n",
        "# Make predictions on the testing data\n",
        "knn_predictions = knn.predict(X_test)\n",
        "\n",
        "# Calculate the accuracy of the KNN predictions\n",
        "knn_accuracy = accuracy_score(y_test, knn_predictions)\n",
        "print(f'KNN yöntemi ile normalizasyonu yapmadan sonuç = {knn_accuracy:.2f}')\n",
        "\n",
        "# Initialize the naive Bayes classifier\n",
        "nb = GaussianNB()\n",
        "\n",
        "# Fit the classifier to the training data\n",
        "nb.fit(X_train, y_train)\n",
        "\n",
        "# Make predictions on the testing data\n",
        "nb_predictions = nb.predict(X_test)\n",
        "\n",
        "# Calculate the accuracy of the naive Bayes predictions\n",
        "nb_accuracy = accuracy_score(y_test, nb_predictions)\n",
        "print(f'Naive Bayes yöntemi ile normalizasyonu yapmadan sonuç = {nb_accuracy:.2f}')\n"
      ],
      "metadata": {
        "colab": {
          "base_uri": "https://localhost:8080/"
        },
        "id": "zM50o7luJOzr",
        "outputId": "c6981526-6450-4418-b550-f272c97bf05f"
      },
      "execution_count": 29,
      "outputs": [
        {
          "output_type": "stream",
          "name": "stdout",
          "text": [
            "KNN yöntemi ile normalizasyonu yapmadan sonuç = 0.71\n",
            "Naive Bayes yöntemi ile normalizasyonu yapmadan sonuç = 0.75\n"
          ]
        }
      ]
    },
    {
      "cell_type": "markdown",
      "source": [
        "# Önce niteliklerin özellikleri normalize edip sonra KNN ve Naive Bayes sınıflandırma yöntemleri ile sınıflandırma ve tahmin başarı değeri(oranı) bulup ekrana yazma"
      ],
      "metadata": {
        "id": "5v0nHm4yvgRe"
      }
    },
    {
      "cell_type": "code",
      "source": [
        "import pandas as pd\n",
        "from sklearn.model_selection import train_test_split\n",
        "from sklearn.neighbors import KNeighborsClassifier\n",
        "from sklearn.naive_bayes import GaussianNB\n",
        "from sklearn.preprocessing import MinMaxScaler\n",
        "\n",
        "# Load the dataset\n",
        "df = pd.read_csv('/content/drive/My Drive/Veri_madenciliği_ödevi/transfusion.csv')\n",
        "\n",
        "# Split the dataset into features and target\n",
        "X = df.drop('whether he/she donated blood in March 2007', axis=1)\n",
        "y = df['whether he/she donated blood in March 2007']\n",
        "\n",
        "# Normalize the features using min-max normalization\n",
        "scaler = MinMaxScaler()\n",
        "X_norm = scaler.fit_transform(X)\n",
        "\n",
        "# Split the data into 80% training and 20% testing\n",
        "X_train, X_test, y_train, y_test = train_test_split(X_norm, y, test_size=0.2, random_state=42)\n",
        "\n",
        "# Create the KNN classifier\n",
        "knn = KNeighborsClassifier()\n",
        "\n",
        "# Fit the classifier to the training data\n",
        "knn.fit(X_train, y_train)\n",
        "\n",
        "# Make predictions on the test data\n",
        "predictions = knn.predict(X_test)\n",
        "\n",
        "# Calculate the accuracy of the predictions\n",
        "accuracy = (predictions == y_test).mean()\n",
        "print('KNN yöntemi ile normalizasyonu yapıldıktan sonra sonuç =', accuracy)\n",
        "\n",
        "# Create the naive Bayes classifier\n",
        "nb = GaussianNB()\n",
        "\n",
        "# Fit the classifier to the training data\n",
        "nb.fit(X_train, y_train)\n",
        "\n",
        "# Make predictions on the test data\n",
        "predictions = nb.predict(X_test)\n",
        "\n",
        "# Calculate the accuracy of the predictions\n",
        "accuracy = (predictions == y_test).mean()\n",
        "print('Naive Bayes yöntemi ile normalizasyonu yapıldıktan sonra sonuç =', accuracy)\n"
      ],
      "metadata": {
        "colab": {
          "base_uri": "https://localhost:8080/"
        },
        "id": "2pM_3ryxljfN",
        "outputId": "3a7381f7-2fcc-4c34-906f-00054379a1bb"
      },
      "execution_count": 30,
      "outputs": [
        {
          "output_type": "stream",
          "name": "stdout",
          "text": [
            "KNN yöntemi ile normalizasyonu yapıldıktan sonra sonuç = 0.7066666666666667\n",
            "Naive Bayes yöntemi ile normalizasyonu yapıldıktan sonra sonuç = 0.7533333333333333\n"
          ]
        }
      ]
    },
    {
      "cell_type": "markdown",
      "source": [
        "#Bu kod da hem orjinal hem de normalize edilmiş niteliklerin özellikleri KNN ve Naive Bayes sınıflandırma yöntemleri ile sınıflandırma ve tahmin başarı değeri(oranı) bulup ekrana yazma"
      ],
      "metadata": {
        "id": "gOJMcrk-s_8t"
      }
    },
    {
      "cell_type": "code",
      "source": [
        "import pandas as pd\n",
        "from sklearn.model_selection import train_test_split\n",
        "from sklearn.neighbors import KNeighborsClassifier\n",
        "from sklearn.naive_bayes import GaussianNB\n",
        "from sklearn.preprocessing import MinMaxScaler\n",
        "\n",
        "# Load the dataset\n",
        "df = pd.read_csv('/content/drive/My Drive/Veri_madenciliği_ödevi/transfusion.csv')\n",
        "\n",
        "# Split the dataset into features and target\n",
        "X = df.drop('whether he/she donated blood in March 2007', axis=1)\n",
        "y = df['whether he/she donated blood in March 2007']\n",
        "\n",
        "# Normalize the features using min-max normalization\n",
        "scaler = MinMaxScaler()\n",
        "X_norm = scaler.fit_transform(X)\n",
        "\n",
        "# Split the data into 80% training and 20% testing\n",
        "X_train, X_test, y_train, y_test = train_test_split(X, y, test_size=0.2, random_state=42)\n",
        "X_train_norm, X_test_norm, y_train, y_test = train_test_split(X_norm, y, test_size=0.2, random_state=42)\n",
        "\n",
        "# Create the KNN classifier\n",
        "knn = KNeighborsClassifier()\n",
        "\n",
        "# Fit the classifier to the training data\n",
        "knn.fit(X_train, y_train)\n",
        "\n",
        "# Make predictions on the test data\n",
        "predictions = knn.predict(X_test)\n",
        "\n",
        "# Calculate the accuracy of the predictions\n",
        "accuracy = (predictions == y_test).mean()\n",
        "print('KNN yöntemi ile normalizasyonu yapmadan(orjinal özellikler)sonuç =', accuracy)\n",
        "\n",
        "# Fit the classifier to the normalized training data\n",
        "knn.fit(X_train_norm, y_train)\n",
        "\n",
        "# Make predictions on the normalized test data\n",
        "predictions = knn.predict(X_test_norm)\n",
        "\n",
        "# Calculate the accuracy of the predictions\n",
        "accuracy = (predictions == y_test).mean()\n",
        "print('KNN yöntemi ile normalizasyonu yapıldıktan sonra (normalize edilmiş özellikler)sonuç =', accuracy)\n",
        "\n",
        "# Create the naive Bayes classifier\n",
        "nb = GaussianNB()\n",
        "\n",
        "# Fit the classifier to the training data\n",
        "nb.fit(X_train, y_train)\n",
        "\n",
        "# Make predictions on the test data\n",
        "predictions = nb.predict(X_test)\n",
        "\n",
        "# Calculate the accuracy of the predictions\n",
        "accuracy = (predictions == y_test).mean()\n",
        "print('Naive Bayes yöntemi ile normalizasyonu yapmadan(orjinal özellikler)sonuç =', accuracy)\n",
        "\n",
        "# Fit the classifier to the normalized training data\n",
        "nb.fit(X_train_norm, y_train)\n",
        "\n",
        "# Make predictions on the normalized test data\n",
        "predictions = nb.predict(X_test_norm)\n",
        "\n",
        "# Calculate the accuracy of the predictions\n",
        "accuracy = (predictions == y_test).mean()\n",
        "print('Naive Bayes yöntemi ile normalizasyonu yapıldıktan sonra(normalize edilmiş özellikler) sonuç =', accuracy)\n"
      ],
      "metadata": {
        "colab": {
          "base_uri": "https://localhost:8080/"
        },
        "id": "NtvDJNeYcYpn",
        "outputId": "62f54e61-f460-48ce-b8c8-e447f41d9c27"
      },
      "execution_count": 31,
      "outputs": [
        {
          "output_type": "stream",
          "name": "stdout",
          "text": [
            "KNN yöntemi ile normalizasyonu yapmadan(orjinal özellikler)sonuç = 0.7066666666666667\n",
            "KNN yöntemi ile normalizasyonu yapıldıktan sonra (normalize edilmiş özellikler)sonuç = 0.7066666666666667\n",
            "Naive Bayes yöntemi ile normalizasyonu yapmadan(orjinal özellikler)sonuç = 0.7533333333333333\n",
            "Naive Bayes yöntemi ile normalizasyonu yapıldıktan sonra(normalize edilmiş özellikler) sonuç = 0.7533333333333333\n"
          ]
        }
      ]
    }
  ]
}